{
  "nbformat": 4,
  "nbformat_minor": 0,
  "metadata": {
    "colab": {
      "provenance": []
    },
    "kernelspec": {
      "name": "python3",
      "display_name": "Python 3"
    },
    "language_info": {
      "name": "python"
    }
  },
  "cells": [
    {
      "cell_type": "markdown",
      "metadata": {
        "id": "view-in-github"
      },
      "source": [
        "<a href=\"https://colab.research.google.com/github/BrutFab/ppo_BipedalWalker_v3/blob/main/ppo_BipedalWalker_v3_basic.ipynb\" target=\"_parent\"><img src=\"https://colab.research.google.com/assets/colab-badge.svg\" alt=\"Open In Colab\"/></a>"
      ]
    },
    {
      "cell_type": "markdown",
      "source": [
        "# **1. Setup**\n"
      ],
      "metadata": {
        "id": "6MbMQP0b7zGg"
      }
    },
    {
      "cell_type": "markdown",
      "source": [
        "### **Install Packages**"
      ],
      "metadata": {
        "id": "gg4Vl1FH_yVm"
      }
    },
    {
      "cell_type": "code",
      "execution_count": null,
      "metadata": {
        "id": "oyYkz0Vc7xNE",
        "colab": {
          "base_uri": "https://localhost:8080/"
        },
        "outputId": "34953fbe-26ff-40fe-c2f3-65480ab045e0"
      },
      "outputs": [
        {
          "output_type": "stream",
          "name": "stdout",
          "text": [
            "Reading package lists... Done\n",
            "Building dependency tree... Done\n",
            "Reading state information... Done\n",
            "cmake is already the newest version (3.22.1-1ubuntu1.22.04.2).\n",
            "ffmpeg is already the newest version (7:4.4.2-0ubuntu0.22.04.1).\n",
            "The following additional packages will be installed:\n",
            "  freeglut3 libfontenc1 libglu1-mesa libxfont2 libxkbfile1 swig4.0 x11-xkb-utils xfonts-base\n",
            "  xfonts-encodings xfonts-utils xserver-common\n",
            "Suggested packages:\n",
            "  libgle3 python3-numpy swig-doc swig-examples swig4.0-examples swig4.0-doc\n",
            "The following NEW packages will be installed:\n",
            "  freeglut3 libfontenc1 libglu1-mesa libxfont2 libxkbfile1 python3-opengl swig swig4.0\n",
            "  x11-xkb-utils xfonts-base xfonts-encodings xfonts-utils xserver-common xvfb\n",
            "0 upgraded, 14 newly installed, 0 to remove and 38 not upgraded.\n",
            "Need to get 9,754 kB of archives.\n",
            "After this operation, 25.6 MB of additional disk space will be used.\n",
            "Get:1 http://archive.ubuntu.com/ubuntu jammy/universe amd64 freeglut3 amd64 2.8.1-6 [74.0 kB]\n",
            "Get:2 http://archive.ubuntu.com/ubuntu jammy/main amd64 libfontenc1 amd64 1:1.1.4-1build3 [14.7 kB]\n",
            "Get:3 http://archive.ubuntu.com/ubuntu jammy/main amd64 libxfont2 amd64 1:2.0.5-1build1 [94.5 kB]\n",
            "Get:4 http://archive.ubuntu.com/ubuntu jammy/main amd64 libxkbfile1 amd64 1:1.1.0-1build3 [71.8 kB]\n",
            "Get:5 http://archive.ubuntu.com/ubuntu jammy/main amd64 libglu1-mesa amd64 9.0.2-1 [145 kB]\n",
            "Get:6 http://archive.ubuntu.com/ubuntu jammy/universe amd64 python3-opengl all 3.1.5+dfsg-1 [605 kB]\n",
            "Get:7 http://archive.ubuntu.com/ubuntu jammy/universe amd64 swig4.0 amd64 4.0.2-1ubuntu1 [1,110 kB]\n",
            "Get:8 http://archive.ubuntu.com/ubuntu jammy/universe amd64 swig all 4.0.2-1ubuntu1 [5,632 B]\n",
            "Get:9 http://archive.ubuntu.com/ubuntu jammy/main amd64 x11-xkb-utils amd64 7.7+5build4 [172 kB]\n",
            "Get:10 http://archive.ubuntu.com/ubuntu jammy/main amd64 xfonts-encodings all 1:1.0.5-0ubuntu2 [578 kB]\n",
            "Get:11 http://archive.ubuntu.com/ubuntu jammy/main amd64 xfonts-utils amd64 1:7.7+6build2 [94.6 kB]\n",
            "Get:12 http://archive.ubuntu.com/ubuntu jammy/main amd64 xfonts-base all 1:1.0.5 [5,896 kB]\n",
            "Get:13 http://archive.ubuntu.com/ubuntu jammy-updates/main amd64 xserver-common all 2:21.1.4-2ubuntu1.7~22.04.8 [28.6 kB]\n",
            "Get:14 http://archive.ubuntu.com/ubuntu jammy-updates/universe amd64 xvfb amd64 2:21.1.4-2ubuntu1.7~22.04.8 [863 kB]\n",
            "Fetched 9,754 kB in 2s (4,278 kB/s)\n",
            "Selecting previously unselected package freeglut3:amd64.\n",
            "(Reading database ... 121752 files and directories currently installed.)\n",
            "Preparing to unpack .../00-freeglut3_2.8.1-6_amd64.deb ...\n",
            "Unpacking freeglut3:amd64 (2.8.1-6) ...\n",
            "Selecting previously unselected package libfontenc1:amd64.\n",
            "Preparing to unpack .../01-libfontenc1_1%3a1.1.4-1build3_amd64.deb ...\n",
            "Unpacking libfontenc1:amd64 (1:1.1.4-1build3) ...\n",
            "Selecting previously unselected package libxfont2:amd64.\n",
            "Preparing to unpack .../02-libxfont2_1%3a2.0.5-1build1_amd64.deb ...\n",
            "Unpacking libxfont2:amd64 (1:2.0.5-1build1) ...\n",
            "Selecting previously unselected package libxkbfile1:amd64.\n",
            "Preparing to unpack .../03-libxkbfile1_1%3a1.1.0-1build3_amd64.deb ...\n",
            "Unpacking libxkbfile1:amd64 (1:1.1.0-1build3) ...\n",
            "Selecting previously unselected package libglu1-mesa:amd64.\n",
            "Preparing to unpack .../04-libglu1-mesa_9.0.2-1_amd64.deb ...\n",
            "Unpacking libglu1-mesa:amd64 (9.0.2-1) ...\n",
            "Selecting previously unselected package python3-opengl.\n",
            "Preparing to unpack .../05-python3-opengl_3.1.5+dfsg-1_all.deb ...\n",
            "Unpacking python3-opengl (3.1.5+dfsg-1) ...\n",
            "Selecting previously unselected package swig4.0.\n",
            "Preparing to unpack .../06-swig4.0_4.0.2-1ubuntu1_amd64.deb ...\n",
            "Unpacking swig4.0 (4.0.2-1ubuntu1) ...\n",
            "Selecting previously unselected package swig.\n",
            "Preparing to unpack .../07-swig_4.0.2-1ubuntu1_all.deb ...\n",
            "Unpacking swig (4.0.2-1ubuntu1) ...\n",
            "Selecting previously unselected package x11-xkb-utils.\n",
            "Preparing to unpack .../08-x11-xkb-utils_7.7+5build4_amd64.deb ...\n",
            "Unpacking x11-xkb-utils (7.7+5build4) ...\n",
            "Selecting previously unselected package xfonts-encodings.\n",
            "Preparing to unpack .../09-xfonts-encodings_1%3a1.0.5-0ubuntu2_all.deb ...\n",
            "Unpacking xfonts-encodings (1:1.0.5-0ubuntu2) ...\n",
            "Selecting previously unselected package xfonts-utils.\n",
            "Preparing to unpack .../10-xfonts-utils_1%3a7.7+6build2_amd64.deb ...\n",
            "Unpacking xfonts-utils (1:7.7+6build2) ...\n",
            "Selecting previously unselected package xfonts-base.\n",
            "Preparing to unpack .../11-xfonts-base_1%3a1.0.5_all.deb ...\n",
            "Unpacking xfonts-base (1:1.0.5) ...\n",
            "Selecting previously unselected package xserver-common.\n",
            "Preparing to unpack .../12-xserver-common_2%3a21.1.4-2ubuntu1.7~22.04.8_all.deb ...\n",
            "Unpacking xserver-common (2:21.1.4-2ubuntu1.7~22.04.8) ...\n",
            "Selecting previously unselected package xvfb.\n",
            "Preparing to unpack .../13-xvfb_2%3a21.1.4-2ubuntu1.7~22.04.8_amd64.deb ...\n",
            "Unpacking xvfb (2:21.1.4-2ubuntu1.7~22.04.8) ...\n",
            "Setting up freeglut3:amd64 (2.8.1-6) ...\n",
            "Setting up libfontenc1:amd64 (1:1.1.4-1build3) ...\n",
            "Setting up xfonts-encodings (1:1.0.5-0ubuntu2) ...\n",
            "Setting up libglu1-mesa:amd64 (9.0.2-1) ...\n",
            "Setting up libxkbfile1:amd64 (1:1.1.0-1build3) ...\n",
            "Setting up swig4.0 (4.0.2-1ubuntu1) ...\n",
            "Setting up libxfont2:amd64 (1:2.0.5-1build1) ...\n",
            "Setting up swig (4.0.2-1ubuntu1) ...\n",
            "Setting up x11-xkb-utils (7.7+5build4) ...\n",
            "Setting up python3-opengl (3.1.5+dfsg-1) ...\n",
            "Setting up xfonts-utils (1:7.7+6build2) ...\n",
            "Setting up xfonts-base (1:1.0.5) ...\n",
            "Setting up xserver-common (2:21.1.4-2ubuntu1.7~22.04.8) ...\n",
            "Setting up xvfb (2:21.1.4-2ubuntu1.7~22.04.8) ...\n",
            "Processing triggers for man-db (2.10.2-1) ...\n",
            "Processing triggers for fontconfig (2.13.1-4.2ubuntu5) ...\n",
            "Processing triggers for libc-bin (2.35-0ubuntu3.4) ...\n",
            "/sbin/ldconfig.real: /usr/local/lib/libtbbbind_2_0.so.3 is not a symbolic link\n",
            "\n",
            "/sbin/ldconfig.real: /usr/local/lib/libtbbmalloc_proxy.so.2 is not a symbolic link\n",
            "\n",
            "/sbin/ldconfig.real: /usr/local/lib/libtbbbind_2_5.so.3 is not a symbolic link\n",
            "\n",
            "/sbin/ldconfig.real: /usr/local/lib/libtbbmalloc.so.2 is not a symbolic link\n",
            "\n",
            "/sbin/ldconfig.real: /usr/local/lib/libtbb.so.12 is not a symbolic link\n",
            "\n",
            "/sbin/ldconfig.real: /usr/local/lib/libtbbbind.so.3 is not a symbolic link\n",
            "\n",
            "Collecting stable-baselines3==2.0.0a5\n",
            "  Downloading stable_baselines3-2.0.0a5-py3-none-any.whl (177 kB)\n",
            "\u001b[2K     \u001b[90m━━━━━━━━━━━━━━━━━━━━━━━━━━━━━━━━━━━━━━━━\u001b[0m \u001b[32m177.5/177.5 kB\u001b[0m \u001b[31m3.8 MB/s\u001b[0m eta \u001b[36m0:00:00\u001b[0m\n",
            "\u001b[?25hCollecting gymnasium[box2d]\n",
            "  Downloading gymnasium-0.29.1-py3-none-any.whl (953 kB)\n",
            "\u001b[2K     \u001b[90m━━━━━━━━━━━━━━━━━━━━━━━━━━━━━━━━━━━━━━━━\u001b[0m \u001b[32m953.9/953.9 kB\u001b[0m \u001b[31m26.4 MB/s\u001b[0m eta \u001b[36m0:00:00\u001b[0m\n",
            "\u001b[?25hCollecting huggingface_sb3\n",
            "  Downloading huggingface_sb3-3.0-py3-none-any.whl (9.7 kB)\n",
            "Collecting pyvirtualdisplay\n",
            "  Downloading PyVirtualDisplay-3.0-py3-none-any.whl (15 kB)\n",
            "Requirement already satisfied: imageio[ffmpeg] in /usr/local/lib/python3.10/dist-packages (2.31.6)\n",
            "Collecting gymnasium==0.28.1 (from stable-baselines3==2.0.0a5)\n",
            "  Downloading gymnasium-0.28.1-py3-none-any.whl (925 kB)\n",
            "\u001b[2K     \u001b[90m━━━━━━━━━━━━━━━━━━━━━━━━━━━━━━━━━━━━━━━━\u001b[0m \u001b[32m925.5/925.5 kB\u001b[0m \u001b[31m41.5 MB/s\u001b[0m eta \u001b[36m0:00:00\u001b[0m\n",
            "\u001b[?25hRequirement already satisfied: numpy in /usr/local/lib/python3.10/dist-packages (from stable-baselines3==2.0.0a5) (1.25.2)\n",
            "Requirement already satisfied: torch>=1.11 in /usr/local/lib/python3.10/dist-packages (from stable-baselines3==2.0.0a5) (2.2.1+cu121)\n",
            "Requirement already satisfied: cloudpickle in /usr/local/lib/python3.10/dist-packages (from stable-baselines3==2.0.0a5) (2.2.1)\n",
            "Requirement already satisfied: pandas in /usr/local/lib/python3.10/dist-packages (from stable-baselines3==2.0.0a5) (1.5.3)\n",
            "Requirement already satisfied: matplotlib in /usr/local/lib/python3.10/dist-packages (from stable-baselines3==2.0.0a5) (3.7.1)\n",
            "Collecting jax-jumpy>=1.0.0 (from gymnasium==0.28.1->stable-baselines3==2.0.0a5)\n",
            "  Downloading jax_jumpy-1.0.0-py3-none-any.whl (20 kB)\n",
            "Requirement already satisfied: typing-extensions>=4.3.0 in /usr/local/lib/python3.10/dist-packages (from gymnasium==0.28.1->stable-baselines3==2.0.0a5) (4.10.0)\n",
            "Collecting farama-notifications>=0.0.1 (from gymnasium==0.28.1->stable-baselines3==2.0.0a5)\n",
            "  Downloading Farama_Notifications-0.0.4-py3-none-any.whl (2.5 kB)\n",
            "INFO: pip is looking at multiple versions of gymnasium[box2d] to determine which version is compatible with other requirements. This could take a while.\n",
            "Collecting gymnasium[box2d]\n",
            "  Downloading gymnasium-0.29.0-py3-none-any.whl (953 kB)\n",
            "\u001b[2K     \u001b[90m━━━━━━━━━━━━━━━━━━━━━━━━━━━━━━━━━━━━━━━━\u001b[0m \u001b[32m953.8/953.8 kB\u001b[0m \u001b[31m46.9 MB/s\u001b[0m eta \u001b[36m0:00:00\u001b[0m\n",
            "\u001b[?25hCollecting box2d-py==2.3.5 (from gymnasium==0.28.1->stable-baselines3==2.0.0a5)\n",
            "  Downloading box2d-py-2.3.5.tar.gz (374 kB)\n",
            "\u001b[2K     \u001b[90m━━━━━━━━━━━━━━━━━━━━━━━━━━━━━━━━━━━━━━━━\u001b[0m \u001b[32m374.4/374.4 kB\u001b[0m \u001b[31m31.9 MB/s\u001b[0m eta \u001b[36m0:00:00\u001b[0m\n",
            "\u001b[?25h  Preparing metadata (setup.py) ... \u001b[?25l\u001b[?25hdone\n",
            "Collecting pygame==2.1.3 (from gymnasium==0.28.1->stable-baselines3==2.0.0a5)\n",
            "  Downloading pygame-2.1.3-cp310-cp310-manylinux_2_17_x86_64.manylinux2014_x86_64.whl (13.7 MB)\n",
            "\u001b[2K     \u001b[90m━━━━━━━━━━━━━━━━━━━━━━━━━━━━━━━━━━━━━━━━\u001b[0m \u001b[32m13.7/13.7 MB\u001b[0m \u001b[31m46.7 MB/s\u001b[0m eta \u001b[36m0:00:00\u001b[0m\n",
            "\u001b[?25hCollecting swig==4.* (from gymnasium==0.28.1->stable-baselines3==2.0.0a5)\n",
            "  Downloading swig-4.2.1-py2.py3-none-manylinux_2_5_x86_64.manylinux1_x86_64.whl (1.9 MB)\n",
            "\u001b[2K     \u001b[90m━━━━━━━━━━━━━━━━━━━━━━━━━━━━━━━━━━━━━━━━\u001b[0m \u001b[32m1.9/1.9 MB\u001b[0m \u001b[31m72.4 MB/s\u001b[0m eta \u001b[36m0:00:00\u001b[0m\n",
            "\u001b[?25hRequirement already satisfied: huggingface-hub~=0.8 in /usr/local/lib/python3.10/dist-packages (from huggingface_sb3) (0.20.3)\n",
            "Requirement already satisfied: pyyaml~=6.0 in /usr/local/lib/python3.10/dist-packages (from huggingface_sb3) (6.0.1)\n",
            "Requirement already satisfied: wasabi in /usr/local/lib/python3.10/dist-packages (from huggingface_sb3) (1.1.2)\n",
            "Requirement already satisfied: pillow<10.1.0,>=8.3.2 in /usr/local/lib/python3.10/dist-packages (from imageio[ffmpeg]) (9.4.0)\n",
            "Requirement already satisfied: imageio-ffmpeg in /usr/local/lib/python3.10/dist-packages (from imageio[ffmpeg]) (0.4.9)\n",
            "Requirement already satisfied: psutil in /usr/local/lib/python3.10/dist-packages (from imageio[ffmpeg]) (5.9.5)\n",
            "Requirement already satisfied: filelock in /usr/local/lib/python3.10/dist-packages (from huggingface-hub~=0.8->huggingface_sb3) (3.13.1)\n",
            "Requirement already satisfied: fsspec>=2023.5.0 in /usr/local/lib/python3.10/dist-packages (from huggingface-hub~=0.8->huggingface_sb3) (2023.6.0)\n",
            "Requirement already satisfied: requests in /usr/local/lib/python3.10/dist-packages (from huggingface-hub~=0.8->huggingface_sb3) (2.31.0)\n",
            "Requirement already satisfied: tqdm>=4.42.1 in /usr/local/lib/python3.10/dist-packages (from huggingface-hub~=0.8->huggingface_sb3) (4.66.2)\n",
            "Requirement already satisfied: packaging>=20.9 in /usr/local/lib/python3.10/dist-packages (from huggingface-hub~=0.8->huggingface_sb3) (24.0)\n",
            "Requirement already satisfied: sympy in /usr/local/lib/python3.10/dist-packages (from torch>=1.11->stable-baselines3==2.0.0a5) (1.12)\n",
            "Requirement already satisfied: networkx in /usr/local/lib/python3.10/dist-packages (from torch>=1.11->stable-baselines3==2.0.0a5) (3.2.1)\n",
            "Requirement already satisfied: jinja2 in /usr/local/lib/python3.10/dist-packages (from torch>=1.11->stable-baselines3==2.0.0a5) (3.1.3)\n",
            "Collecting nvidia-cuda-nvrtc-cu12==12.1.105 (from torch>=1.11->stable-baselines3==2.0.0a5)\n",
            "  Downloading nvidia_cuda_nvrtc_cu12-12.1.105-py3-none-manylinux1_x86_64.whl (23.7 MB)\n",
            "\u001b[2K     \u001b[90m━━━━━━━━━━━━━━━━━━━━━━━━━━━━━━━━━━━━━━━━\u001b[0m \u001b[32m23.7/23.7 MB\u001b[0m \u001b[31m46.0 MB/s\u001b[0m eta \u001b[36m0:00:00\u001b[0m\n",
            "\u001b[?25hCollecting nvidia-cuda-runtime-cu12==12.1.105 (from torch>=1.11->stable-baselines3==2.0.0a5)\n",
            "  Downloading nvidia_cuda_runtime_cu12-12.1.105-py3-none-manylinux1_x86_64.whl (823 kB)\n",
            "\u001b[2K     \u001b[90m━━━━━━━━━━━━━━━━━━━━━━━━━━━━━━━━━━━━━━━━\u001b[0m \u001b[32m823.6/823.6 kB\u001b[0m \u001b[31m41.8 MB/s\u001b[0m eta \u001b[36m0:00:00\u001b[0m\n",
            "\u001b[?25hCollecting nvidia-cuda-cupti-cu12==12.1.105 (from torch>=1.11->stable-baselines3==2.0.0a5)\n",
            "  Downloading nvidia_cuda_cupti_cu12-12.1.105-py3-none-manylinux1_x86_64.whl (14.1 MB)\n",
            "\u001b[2K     \u001b[90m━━━━━━━━━━━━━━━━━━━━━━━━━━━━━━━━━━━━━━━━\u001b[0m \u001b[32m14.1/14.1 MB\u001b[0m \u001b[31m66.4 MB/s\u001b[0m eta \u001b[36m0:00:00\u001b[0m\n",
            "\u001b[?25hCollecting nvidia-cudnn-cu12==8.9.2.26 (from torch>=1.11->stable-baselines3==2.0.0a5)\n",
            "  Downloading nvidia_cudnn_cu12-8.9.2.26-py3-none-manylinux1_x86_64.whl (731.7 MB)\n",
            "\u001b[2K     \u001b[90m━━━━━━━━━━━━━━━━━━━━━━━━━━━━━━━━━━━━━━━━\u001b[0m \u001b[32m731.7/731.7 MB\u001b[0m \u001b[31m1.9 MB/s\u001b[0m eta \u001b[36m0:00:00\u001b[0m\n",
            "\u001b[?25hCollecting nvidia-cublas-cu12==12.1.3.1 (from torch>=1.11->stable-baselines3==2.0.0a5)\n",
            "  Downloading nvidia_cublas_cu12-12.1.3.1-py3-none-manylinux1_x86_64.whl (410.6 MB)\n",
            "\u001b[2K     \u001b[90m━━━━━━━━━━━━━━━━━━━━━━━━━━━━━━━━━━━━━━━━\u001b[0m \u001b[32m410.6/410.6 MB\u001b[0m \u001b[31m1.3 MB/s\u001b[0m eta \u001b[36m0:00:00\u001b[0m\n",
            "\u001b[?25hCollecting nvidia-cufft-cu12==11.0.2.54 (from torch>=1.11->stable-baselines3==2.0.0a5)\n",
            "  Downloading nvidia_cufft_cu12-11.0.2.54-py3-none-manylinux1_x86_64.whl (121.6 MB)\n",
            "\u001b[2K     \u001b[90m━━━━━━━━━━━━━━━━━━━━━━━━━━━━━━━━━━━━━━━━\u001b[0m \u001b[32m121.6/121.6 MB\u001b[0m \u001b[31m8.3 MB/s\u001b[0m eta \u001b[36m0:00:00\u001b[0m\n",
            "\u001b[?25hCollecting nvidia-curand-cu12==10.3.2.106 (from torch>=1.11->stable-baselines3==2.0.0a5)\n",
            "  Downloading nvidia_curand_cu12-10.3.2.106-py3-none-manylinux1_x86_64.whl (56.5 MB)\n",
            "\u001b[2K     \u001b[90m━━━━━━━━━━━━━━━━━━━━━━━━━━━━━━━━━━━━━━━━\u001b[0m \u001b[32m56.5/56.5 MB\u001b[0m \u001b[31m9.3 MB/s\u001b[0m eta \u001b[36m0:00:00\u001b[0m\n",
            "\u001b[?25hCollecting nvidia-cusolver-cu12==11.4.5.107 (from torch>=1.11->stable-baselines3==2.0.0a5)\n",
            "  Downloading nvidia_cusolver_cu12-11.4.5.107-py3-none-manylinux1_x86_64.whl (124.2 MB)\n",
            "\u001b[2K     \u001b[90m━━━━━━━━━━━━━━━━━━━━━━━━━━━━━━━━━━━━━━━━\u001b[0m \u001b[32m124.2/124.2 MB\u001b[0m \u001b[31m8.1 MB/s\u001b[0m eta \u001b[36m0:00:00\u001b[0m\n",
            "\u001b[?25hCollecting nvidia-cusparse-cu12==12.1.0.106 (from torch>=1.11->stable-baselines3==2.0.0a5)\n",
            "  Downloading nvidia_cusparse_cu12-12.1.0.106-py3-none-manylinux1_x86_64.whl (196.0 MB)\n",
            "\u001b[2K     \u001b[90m━━━━━━━━━━━━━━━━━━━━━━━━━━━━━━━━━━━━━━━━\u001b[0m \u001b[32m196.0/196.0 MB\u001b[0m \u001b[31m2.4 MB/s\u001b[0m eta \u001b[36m0:00:00\u001b[0m\n",
            "\u001b[?25hCollecting nvidia-nccl-cu12==2.19.3 (from torch>=1.11->stable-baselines3==2.0.0a5)\n",
            "  Downloading nvidia_nccl_cu12-2.19.3-py3-none-manylinux1_x86_64.whl (166.0 MB)\n",
            "\u001b[2K     \u001b[90m━━━━━━━━━━━━━━━━━━━━━━━━━━━━━━━━━━━━━━━━\u001b[0m \u001b[32m166.0/166.0 MB\u001b[0m \u001b[31m5.4 MB/s\u001b[0m eta \u001b[36m0:00:00\u001b[0m\n",
            "\u001b[?25hCollecting nvidia-nvtx-cu12==12.1.105 (from torch>=1.11->stable-baselines3==2.0.0a5)\n",
            "  Downloading nvidia_nvtx_cu12-12.1.105-py3-none-manylinux1_x86_64.whl (99 kB)\n",
            "\u001b[2K     \u001b[90m━━━━━━━━━━━━━━━━━━━━━━━━━━━━━━━━━━━━━━━━\u001b[0m \u001b[32m99.1/99.1 kB\u001b[0m \u001b[31m11.3 MB/s\u001b[0m eta \u001b[36m0:00:00\u001b[0m\n",
            "\u001b[?25hRequirement already satisfied: triton==2.2.0 in /usr/local/lib/python3.10/dist-packages (from torch>=1.11->stable-baselines3==2.0.0a5) (2.2.0)\n",
            "Collecting nvidia-nvjitlink-cu12 (from nvidia-cusolver-cu12==11.4.5.107->torch>=1.11->stable-baselines3==2.0.0a5)\n",
            "  Downloading nvidia_nvjitlink_cu12-12.4.99-py3-none-manylinux2014_x86_64.whl (21.1 MB)\n",
            "\u001b[2K     \u001b[90m━━━━━━━━━━━━━━━━━━━━━━━━━━━━━━━━━━━━━━━━\u001b[0m \u001b[32m21.1/21.1 MB\u001b[0m \u001b[31m35.2 MB/s\u001b[0m eta \u001b[36m0:00:00\u001b[0m\n",
            "\u001b[?25hRequirement already satisfied: setuptools in /usr/local/lib/python3.10/dist-packages (from imageio-ffmpeg->imageio[ffmpeg]) (67.7.2)\n",
            "Requirement already satisfied: contourpy>=1.0.1 in /usr/local/lib/python3.10/dist-packages (from matplotlib->stable-baselines3==2.0.0a5) (1.2.0)\n",
            "Requirement already satisfied: cycler>=0.10 in /usr/local/lib/python3.10/dist-packages (from matplotlib->stable-baselines3==2.0.0a5) (0.12.1)\n",
            "Requirement already satisfied: fonttools>=4.22.0 in /usr/local/lib/python3.10/dist-packages (from matplotlib->stable-baselines3==2.0.0a5) (4.49.0)\n",
            "Requirement already satisfied: kiwisolver>=1.0.1 in /usr/local/lib/python3.10/dist-packages (from matplotlib->stable-baselines3==2.0.0a5) (1.4.5)\n",
            "Requirement already satisfied: pyparsing>=2.3.1 in /usr/local/lib/python3.10/dist-packages (from matplotlib->stable-baselines3==2.0.0a5) (3.1.2)\n",
            "Requirement already satisfied: python-dateutil>=2.7 in /usr/local/lib/python3.10/dist-packages (from matplotlib->stable-baselines3==2.0.0a5) (2.8.2)\n",
            "Requirement already satisfied: pytz>=2020.1 in /usr/local/lib/python3.10/dist-packages (from pandas->stable-baselines3==2.0.0a5) (2023.4)\n",
            "Requirement already satisfied: six>=1.5 in /usr/local/lib/python3.10/dist-packages (from python-dateutil>=2.7->matplotlib->stable-baselines3==2.0.0a5) (1.16.0)\n",
            "Requirement already satisfied: MarkupSafe>=2.0 in /usr/local/lib/python3.10/dist-packages (from jinja2->torch>=1.11->stable-baselines3==2.0.0a5) (2.1.5)\n",
            "Requirement already satisfied: charset-normalizer<4,>=2 in /usr/local/lib/python3.10/dist-packages (from requests->huggingface-hub~=0.8->huggingface_sb3) (3.3.2)\n",
            "Requirement already satisfied: idna<4,>=2.5 in /usr/local/lib/python3.10/dist-packages (from requests->huggingface-hub~=0.8->huggingface_sb3) (3.6)\n",
            "Requirement already satisfied: urllib3<3,>=1.21.1 in /usr/local/lib/python3.10/dist-packages (from requests->huggingface-hub~=0.8->huggingface_sb3) (2.0.7)\n",
            "Requirement already satisfied: certifi>=2017.4.17 in /usr/local/lib/python3.10/dist-packages (from requests->huggingface-hub~=0.8->huggingface_sb3) (2024.2.2)\n",
            "Requirement already satisfied: mpmath>=0.19 in /usr/local/lib/python3.10/dist-packages (from sympy->torch>=1.11->stable-baselines3==2.0.0a5) (1.3.0)\n",
            "Building wheels for collected packages: box2d-py\n",
            "  Building wheel for box2d-py (setup.py) ... \u001b[?25l\u001b[?25hdone\n",
            "  Created wheel for box2d-py: filename=box2d_py-2.3.5-cp310-cp310-linux_x86_64.whl size=2349138 sha256=ae696e14b2cfca88e6a931310332ed519d9430dc8e0141dd7926d724048b157b\n",
            "  Stored in directory: /root/.cache/pip/wheels/db/8f/6a/eaaadf056fba10a98d986f6dce954e6201ba3126926fc5ad9e\n",
            "Successfully built box2d-py\n",
            "Installing collected packages: swig, pyvirtualdisplay, farama-notifications, box2d-py, pygame, nvidia-nvtx-cu12, nvidia-nvjitlink-cu12, nvidia-nccl-cu12, nvidia-curand-cu12, nvidia-cufft-cu12, nvidia-cuda-runtime-cu12, nvidia-cuda-nvrtc-cu12, nvidia-cuda-cupti-cu12, nvidia-cublas-cu12, jax-jumpy, nvidia-cusparse-cu12, nvidia-cudnn-cu12, gymnasium, nvidia-cusolver-cu12, huggingface_sb3, stable-baselines3\n",
            "  Attempting uninstall: pygame\n",
            "    Found existing installation: pygame 2.5.2\n",
            "    Uninstalling pygame-2.5.2:\n",
            "      Successfully uninstalled pygame-2.5.2\n",
            "Successfully installed box2d-py-2.3.5 farama-notifications-0.0.4 gymnasium-0.28.1 huggingface_sb3-3.0 jax-jumpy-1.0.0 nvidia-cublas-cu12-12.1.3.1 nvidia-cuda-cupti-cu12-12.1.105 nvidia-cuda-nvrtc-cu12-12.1.105 nvidia-cuda-runtime-cu12-12.1.105 nvidia-cudnn-cu12-8.9.2.26 nvidia-cufft-cu12-11.0.2.54 nvidia-curand-cu12-10.3.2.106 nvidia-cusolver-cu12-11.4.5.107 nvidia-cusparse-cu12-12.1.0.106 nvidia-nccl-cu12-2.19.3 nvidia-nvjitlink-cu12-12.4.99 nvidia-nvtx-cu12-12.1.105 pygame-2.1.3 pyvirtualdisplay-3.0 stable-baselines3-2.0.0a5 swig-4.2.1\n"
          ]
        }
      ],
      "source": [
        "# Install necessary packages\n",
        "!apt install swig cmake ffmpeg xvfb python3-opengl\n",
        "!pip install stable-baselines3==2.0.0a5 gymnasium[box2d] huggingface_sb3 pyvirtualdisplay imageio[ffmpeg]"
      ]
    },
    {
      "cell_type": "markdown",
      "source": [
        "The Next Cell will force the notebook runtime to restart. This is to ensure all the new libraries installed will be used."
      ],
      "metadata": {
        "id": "-v81BfAd7yWc"
      }
    },
    {
      "cell_type": "code",
      "source": [
        "import os\n",
        "os.kill(os.getpid(), 9)"
      ],
      "metadata": {
        "id": "FaiyY-Fn_EZg"
      },
      "execution_count": null,
      "outputs": []
    },
    {
      "cell_type": "markdown",
      "source": [
        "### **Start Virtual Display**"
      ],
      "metadata": {
        "id": "DAlous3h_OrZ"
      }
    },
    {
      "cell_type": "code",
      "source": [
        "from pyvirtualdisplay import Display\n",
        "virtual_display = Display(visible=0, size=(1400, 900))\n",
        "virtual_display.start()"
      ],
      "metadata": {
        "id": "xblUYFLM_ZGr",
        "colab": {
          "base_uri": "https://localhost:8080/"
        },
        "outputId": "a170882e-2d8a-4fc1-cbc9-23262c5ca630"
      },
      "execution_count": null,
      "outputs": [
        {
          "output_type": "execute_result",
          "data": {
            "text/plain": [
              "<pyvirtualdisplay.display.Display at 0x7dfaf631dc30>"
            ]
          },
          "metadata": {},
          "execution_count": 1
        }
      ]
    },
    {
      "cell_type": "markdown",
      "source": [
        "### **Setup Environment**"
      ],
      "metadata": {
        "id": "cG91Uw14_9-W"
      }
    },
    {
      "cell_type": "markdown",
      "source": [],
      "metadata": {
        "id": "ddhvmlKeLh-H"
      }
    },
    {
      "cell_type": "code",
      "source": [
        "import gymnasium as gym\n",
        "env = gym.make(\"BipedalWalker-v3\", hardcore=True)\n",
        "env.reset()"
      ],
      "metadata": {
        "id": "FyLRt45mACyY",
        "colab": {
          "base_uri": "https://localhost:8080/"
        },
        "outputId": "339475f8-16b4-4795-b3f8-96bfebe541c2"
      },
      "execution_count": null,
      "outputs": [
        {
          "output_type": "execute_result",
          "data": {
            "text/plain": [
              "(array([ 2.7472945e-03,  1.6571377e-06, -2.1605889e-04, -1.6000008e-02,\n",
              "         9.2203960e-02,  5.0155836e-04,  8.6010194e-01,  1.0045115e-03,\n",
              "         1.0000000e+00,  3.2595363e-02,  5.0155650e-04,  8.5368133e-01,\n",
              "        -3.4130868e-04,  1.0000000e+00,  4.4081384e-01,  4.4581994e-01,\n",
              "         4.6142259e-01,  4.8954999e-01,  5.3410256e-01,  6.0246080e-01,\n",
              "         7.0914859e-01,  8.8593149e-01,  1.0000000e+00,  1.0000000e+00],\n",
              "       dtype=float32),\n",
              " {})"
            ]
          },
          "metadata": {},
          "execution_count": 2
        }
      ]
    },
    {
      "cell_type": "markdown",
      "source": [
        "### **Observation Space**\n",
        "Observation Space Shape (24,) vector of size 24, where each value contains different information about the walker:\n",
        "\n",
        "- **Hull Angle Speed**: The speed at which the main body of the walker is rotating.\n",
        "- **Angular Velocity**: The rate of change of the angular position of the walker.\n",
        "- **Horizontal Speed**: The speed at which the walker is moving horizontally.\n",
        "- **Vertical Speed**: The speed at which the walker is moving vertically.\n",
        "- **Position of Joints**: The positions (angles) of the walker's joints. Given that the walker has 4 joints, this take up 4 values.\n",
        "- **Joints Angular Speed**: The rate of change of the angular position for each joint. Again, this would be 4 values for the 4 joints.\n",
        "- **Legs Contact with Ground**: Indicating whether each leg is in contact with the ground. Given two legs, this contains 2 values.\n",
        "- **10 Lidar Rangefinder Measurements**: These are distance measurements to detect obstacles or terrain features around the walker. There are 10 of these values.\n"
      ],
      "metadata": {
        "id": "xr8LRvHOLxIx"
      }
    },
    {
      "cell_type": "code",
      "source": [
        "print(\"_____OBSERVATION SPACE_____ \\n\")\n",
        "print(\"Observation Space Shape\", env.observation_space.shape)\n",
        "print(\"Sample observation\", env.observation_space.sample()) # Get a random observation"
      ],
      "metadata": {
        "id": "l23gcNuzLr4h",
        "colab": {
          "base_uri": "https://localhost:8080/"
        },
        "outputId": "67fc9d20-f262-4f4a-9873-ff205ecd3dc8"
      },
      "execution_count": null,
      "outputs": [
        {
          "output_type": "stream",
          "name": "stdout",
          "text": [
            "_____OBSERVATION SPACE_____ \n",
            "\n",
            "Observation Space Shape (24,)\n",
            "Sample observation [-2.0725927e+00 -1.4756850e+00 -2.0253189e+00 -7.5674945e-01\n",
            "  2.3628733e+00  2.2996938e+00  2.7107003e+00  3.7094252e+00\n",
            "  3.0790622e+00 -3.0424729e-01 -3.8107047e+00 -1.8706770e+00\n",
            " -4.6639557e+00  4.2692957e+00  3.1478158e-01  3.1892470e-01\n",
            "  5.6002504e-01  5.6660002e-01 -1.2246359e-03 -8.6975205e-01\n",
            " -5.9144425e-01  8.6552209e-01  4.7502828e-01  9.2771536e-01]\n"
          ]
        }
      ]
    },
    {
      "cell_type": "markdown",
      "source": [
        "### **Action Space**\n",
        "\n",
        " Actions are motor speed values in the [-1, 1] range for each of the 4 joints at both hips and knees."
      ],
      "metadata": {
        "id": "aS3kPiz8I7OH"
      }
    },
    {
      "cell_type": "code",
      "source": [
        "print(\"\\n _____ACTION SPACE_____ \\n\")\n",
        "print(\"Action Space Shape\", env.action_space.shape)\n",
        "print(\"Action Space Sample\", env.action_space.sample()) # Take a random action"
      ],
      "metadata": {
        "id": "r8-of2O-KXe_",
        "colab": {
          "base_uri": "https://localhost:8080/"
        },
        "outputId": "aa423065-cb49-4b96-c0e7-afa83f9034e0"
      },
      "execution_count": null,
      "outputs": [
        {
          "output_type": "stream",
          "name": "stdout",
          "text": [
            "\n",
            " _____ACTION SPACE_____ \n",
            "\n",
            "Action Space Shape (4,)\n",
            "Action Space Sample [-0.14595439  0.24838756  0.7044184   0.4679431 ]\n"
          ]
        }
      ]
    },
    {
      "cell_type": "markdown",
      "source": [
        "### **Vectorized Environment**\n",
        "Create a vectorized environment (a method for stacking multiple independent environments into a single environment) of 16 environments to have more diverse experiences."
      ],
      "metadata": {
        "id": "WFheIWeIMR8F"
      }
    },
    {
      "cell_type": "code",
      "source": [
        "from stable_baselines3.common.env_util import make_vec_env\n",
        "env = make_vec_env('BipedalWalker-v3', n_envs=16)"
      ],
      "metadata": {
        "id": "G9LsgYvuMqTB"
      },
      "execution_count": null,
      "outputs": []
    },
    {
      "cell_type": "markdown",
      "source": [
        "# **2. Building the Model**"
      ],
      "metadata": {
        "id": "Ho3QSAXWNOxF"
      }
    },
    {
      "cell_type": "code",
      "source": [
        "from stable_baselines3 import PPO\n",
        "model = PPO(\n",
        "    policy = 'MlpPolicy',\n",
        "    env = env,\n",
        "    n_steps = 2048,\n",
        "    batch_size = 128,\n",
        "    n_epochs = 6,\n",
        "    gamma = 0.999,\n",
        "    gae_lambda = 0.98,\n",
        "    ent_coef = 0.01,\n",
        "    verbose=1)"
      ],
      "metadata": {
        "colab": {
          "base_uri": "https://localhost:8080/"
        },
        "id": "n5amWvjFNt93",
        "outputId": "aabdd65d-c2c2-4d1b-f414-9d8b88755a7e"
      },
      "execution_count": null,
      "outputs": [
        {
          "output_type": "stream",
          "name": "stdout",
          "text": [
            "Using cpu device\n"
          ]
        }
      ]
    },
    {
      "cell_type": "markdown",
      "source": [
        "# 3.**Video Generation**"
      ],
      "metadata": {
        "id": "LyYbio5uOiHb"
      }
    },
    {
      "cell_type": "code",
      "source": [
        "from wasabi import Printer\n",
        "import numpy as np\n",
        "from stable_baselines3.common.base_class import BaseAlgorithm\n",
        "from pathlib import Path\n",
        "import tempfile\n",
        "from stable_baselines3.common.monitor import Monitor\n",
        "from stable_baselines3.common.vec_env import (\n",
        "    DummyVecEnv,\n",
        "    VecEnv,\n",
        "    VecVideoRecorder,\n",
        ")"
      ],
      "metadata": {
        "id": "bZpJ_3yHOhce",
        "colab": {
          "base_uri": "https://localhost:8080/"
        },
        "outputId": "cdd296ff-7bad-42a4-e683-1e062d58e7e7"
      },
      "execution_count": null,
      "outputs": [
        {
          "output_type": "stream",
          "name": "stderr",
          "text": [
            "/usr/local/lib/python3.10/dist-packages/ipykernel/ipkernel.py:283: DeprecationWarning: `should_run_async` will not call `transform_cell` automatically in the future. Please pass the result to `transformed_cell` argument and any exception that happen during thetransform in `preprocessing_exc_tuple` in IPython 7.17 and above.\n",
            "  and should_run_async(code)\n"
          ]
        }
      ]
    },
    {
      "cell_type": "code",
      "source": [
        "msg = Printer()"
      ],
      "metadata": {
        "id": "r0XIO_k5PBPc"
      },
      "execution_count": null,
      "outputs": []
    },
    {
      "cell_type": "code",
      "source": [
        "def generate_replay(\n",
        "    model: BaseAlgorithm,\n",
        "    eval_env: VecEnv,\n",
        "    video_length: int,\n",
        "    is_deterministic: bool,\n",
        "    local_path: Path,\n",
        "):\n",
        "    \"\"\"\n",
        "    Generate a replay video of the agent\n",
        "    :param model: trained model\n",
        "    :param eval_env: environment used to evaluate the agent\n",
        "    :param video_length: length of the video (in timesteps)\n",
        "    :param is_deterministic: use deterministic or stochastic actions\n",
        "    :param local_path: path of the local repository\n",
        "    \"\"\"\n",
        "    # This is another temporary directory for video outputs\n",
        "    # SB3 created a -step-0-to-... meta files as well as other\n",
        "    # artifacts which we don't want in the repo.\n",
        "    with tempfile.TemporaryDirectory() as tmpdirname:\n",
        "        # Step 1: Create the VecVideoRecorder\n",
        "        env = VecVideoRecorder(\n",
        "            eval_env,\n",
        "            tmpdirname,\n",
        "            record_video_trigger=lambda x: x == 0,\n",
        "            video_length=video_length,\n",
        "            name_prefix=\"\",\n",
        "        )\n",
        "\n",
        "        obs = env.reset()\n",
        "        lstm_states = None\n",
        "        episode_starts = np.ones((env.num_envs,), dtype=bool)\n",
        "\n",
        "        try:\n",
        "            for _ in range(video_length):\n",
        "                action, lstm_states = model.predict(\n",
        "                    obs,\n",
        "                    state=lstm_states,\n",
        "                    episode_start=episode_starts,\n",
        "                    deterministic=is_deterministic,\n",
        "                )\n",
        "                obs, _, episode_starts, _ = env.step(action)\n",
        "\n",
        "            # Save the video\n",
        "            env.close()\n",
        "\n",
        "            # Convert the video with x264 codec\n",
        "            inp = env.video_recorder.path\n",
        "            out = local_path\n",
        "            os.system(f\"ffmpeg -y -i {inp} -vcodec h264 {out}\".format(inp, out))\n",
        "            print(f\"Video saved to: {out}\")\n",
        "        except KeyboardInterrupt:\n",
        "            pass\n",
        "        except Exception as e:\n",
        "            msg.fail(str(e))\n",
        "            # Add a message for video\n",
        "            msg.fail(\n",
        "                \"We are unable to generate a replay of your agent\"\n",
        "            )"
      ],
      "metadata": {
        "id": "TbXxg6viPC-u"
      },
      "execution_count": null,
      "outputs": []
    },
    {
      "cell_type": "markdown",
      "source": [
        "# **4. Training, Saving and Record the Videos**"
      ],
      "metadata": {
        "id": "7FSBntjZWBZC"
      }
    },
    {
      "cell_type": "code",
      "source": [
        "model.learn(total_timesteps=580000)\n",
        "\n",
        "# Save the model\n",
        "model_name = \"ppo-BipedalWalker-v3\"\n",
        "model.save(model_name)"
      ],
      "metadata": {
        "id": "V95RlWJ8Staf",
        "colab": {
          "base_uri": "https://localhost:8080/"
        },
        "outputId": "2bcce257-f6af-46c3-fa21-e3b12785714a"
      },
      "execution_count": null,
      "outputs": [
        {
          "output_type": "stream",
          "name": "stdout",
          "text": [
            "---------------------------------\n",
            "| rollout/           |          |\n",
            "|    ep_len_mean     | 359      |\n",
            "|    ep_rew_mean     | -111     |\n",
            "| time/              |          |\n",
            "|    fps             | 2117     |\n",
            "|    iterations      | 1        |\n",
            "|    time_elapsed    | 15       |\n",
            "|    total_timesteps | 32768    |\n",
            "---------------------------------\n",
            "------------------------------------------\n",
            "| rollout/                |              |\n",
            "|    ep_len_mean          | 554          |\n",
            "|    ep_rew_mean          | -111         |\n",
            "| time/                   |              |\n",
            "|    fps                  | 1689         |\n",
            "|    iterations           | 2            |\n",
            "|    time_elapsed         | 38           |\n",
            "|    total_timesteps      | 65536        |\n",
            "| train/                  |              |\n",
            "|    approx_kl            | 0.0039105825 |\n",
            "|    clip_fraction        | 0.0296       |\n",
            "|    clip_range           | 0.2          |\n",
            "|    entropy_loss         | -5.69        |\n",
            "|    explained_variance   | 0.00478      |\n",
            "|    learning_rate        | 0.0003       |\n",
            "|    loss                 | 87.8         |\n",
            "|    n_updates            | 6            |\n",
            "|    policy_gradient_loss | -0.00164     |\n",
            "|    std                  | 1            |\n",
            "|    value_loss           | 257          |\n",
            "------------------------------------------\n",
            "------------------------------------------\n",
            "| rollout/                |              |\n",
            "|    ep_len_mean          | 639          |\n",
            "|    ep_rew_mean          | -112         |\n",
            "| time/                   |              |\n",
            "|    fps                  | 1573         |\n",
            "|    iterations           | 3            |\n",
            "|    time_elapsed         | 62           |\n",
            "|    total_timesteps      | 98304        |\n",
            "| train/                  |              |\n",
            "|    approx_kl            | 0.0046371017 |\n",
            "|    clip_fraction        | 0.0437       |\n",
            "|    clip_range           | 0.2          |\n",
            "|    entropy_loss         | -5.72        |\n",
            "|    explained_variance   | 0.571        |\n",
            "|    learning_rate        | 0.0003       |\n",
            "|    loss                 | 34.3         |\n",
            "|    n_updates            | 12           |\n",
            "|    policy_gradient_loss | -0.00126     |\n",
            "|    std                  | 1.02         |\n",
            "|    value_loss           | 89           |\n",
            "------------------------------------------\n",
            "-----------------------------------------\n",
            "| rollout/                |             |\n",
            "|    ep_len_mean          | 793         |\n",
            "|    ep_rew_mean          | -112        |\n",
            "| time/                   |             |\n",
            "|    fps                  | 1537        |\n",
            "|    iterations           | 4           |\n",
            "|    time_elapsed         | 85          |\n",
            "|    total_timesteps      | 131072      |\n",
            "| train/                  |             |\n",
            "|    approx_kl            | 0.004830147 |\n",
            "|    clip_fraction        | 0.0506      |\n",
            "|    clip_range           | 0.2         |\n",
            "|    entropy_loss         | -5.76       |\n",
            "|    explained_variance   | 0.675       |\n",
            "|    learning_rate        | 0.0003      |\n",
            "|    loss                 | 12.8        |\n",
            "|    n_updates            | 18          |\n",
            "|    policy_gradient_loss | -0.00163    |\n",
            "|    std                  | 1.02        |\n",
            "|    value_loss           | 53.2        |\n",
            "-----------------------------------------\n",
            "-----------------------------------------\n",
            "| rollout/                |             |\n",
            "|    ep_len_mean          | 838         |\n",
            "|    ep_rew_mean          | -109        |\n",
            "| time/                   |             |\n",
            "|    fps                  | 1520        |\n",
            "|    iterations           | 5           |\n",
            "|    time_elapsed         | 107         |\n",
            "|    total_timesteps      | 163840      |\n",
            "| train/                  |             |\n",
            "|    approx_kl            | 0.005886345 |\n",
            "|    clip_fraction        | 0.0693      |\n",
            "|    clip_range           | 0.2         |\n",
            "|    entropy_loss         | -5.79       |\n",
            "|    explained_variance   | 0.715       |\n",
            "|    learning_rate        | 0.0003      |\n",
            "|    loss                 | 10.5        |\n",
            "|    n_updates            | 24          |\n",
            "|    policy_gradient_loss | -0.00135    |\n",
            "|    std                  | 1.03        |\n",
            "|    value_loss           | 23.2        |\n",
            "-----------------------------------------\n",
            "------------------------------------------\n",
            "| rollout/                |              |\n",
            "|    ep_len_mean          | 886          |\n",
            "|    ep_rew_mean          | -108         |\n",
            "| time/                   |              |\n",
            "|    fps                  | 1506         |\n",
            "|    iterations           | 6            |\n",
            "|    time_elapsed         | 130          |\n",
            "|    total_timesteps      | 196608       |\n",
            "| train/                  |              |\n",
            "|    approx_kl            | 0.0047827857 |\n",
            "|    clip_fraction        | 0.0351       |\n",
            "|    clip_range           | 0.2          |\n",
            "|    entropy_loss         | -5.8         |\n",
            "|    explained_variance   | 0.801        |\n",
            "|    learning_rate        | 0.0003       |\n",
            "|    loss                 | 20.3         |\n",
            "|    n_updates            | 30           |\n",
            "|    policy_gradient_loss | -0.00217     |\n",
            "|    std                  | 1.04         |\n",
            "|    value_loss           | 38.8         |\n",
            "------------------------------------------\n",
            "-----------------------------------------\n",
            "| rollout/                |             |\n",
            "|    ep_len_mean          | 885         |\n",
            "|    ep_rew_mean          | -108        |\n",
            "| time/                   |             |\n",
            "|    fps                  | 1492        |\n",
            "|    iterations           | 7           |\n",
            "|    time_elapsed         | 153         |\n",
            "|    total_timesteps      | 229376      |\n",
            "| train/                  |             |\n",
            "|    approx_kl            | 0.006242836 |\n",
            "|    clip_fraction        | 0.0561      |\n",
            "|    clip_range           | 0.2         |\n",
            "|    entropy_loss         | -5.83       |\n",
            "|    explained_variance   | 0.797       |\n",
            "|    learning_rate        | 0.0003      |\n",
            "|    loss                 | 8.05        |\n",
            "|    n_updates            | 36          |\n",
            "|    policy_gradient_loss | -0.00157    |\n",
            "|    std                  | 1.03        |\n",
            "|    value_loss           | 25.7        |\n",
            "-----------------------------------------\n",
            "-----------------------------------------\n",
            "| rollout/                |             |\n",
            "|    ep_len_mean          | 960         |\n",
            "|    ep_rew_mean          | -108        |\n",
            "| time/                   |             |\n",
            "|    fps                  | 1483        |\n",
            "|    iterations           | 8           |\n",
            "|    time_elapsed         | 176         |\n",
            "|    total_timesteps      | 262144      |\n",
            "| train/                  |             |\n",
            "|    approx_kl            | 0.005899015 |\n",
            "|    clip_fraction        | 0.049       |\n",
            "|    clip_range           | 0.2         |\n",
            "|    entropy_loss         | -5.84       |\n",
            "|    explained_variance   | 0.767       |\n",
            "|    learning_rate        | 0.0003      |\n",
            "|    loss                 | 13.1        |\n",
            "|    n_updates            | 42          |\n",
            "|    policy_gradient_loss | -0.00136    |\n",
            "|    std                  | 1.05        |\n",
            "|    value_loss           | 35.8        |\n",
            "-----------------------------------------\n",
            "-----------------------------------------\n",
            "| rollout/                |             |\n",
            "|    ep_len_mean          | 1.1e+03     |\n",
            "|    ep_rew_mean          | -107        |\n",
            "| time/                   |             |\n",
            "|    fps                  | 1464        |\n",
            "|    iterations           | 9           |\n",
            "|    time_elapsed         | 201         |\n",
            "|    total_timesteps      | 294912      |\n",
            "| train/                  |             |\n",
            "|    approx_kl            | 0.007187605 |\n",
            "|    clip_fraction        | 0.104       |\n",
            "|    clip_range           | 0.2         |\n",
            "|    entropy_loss         | -5.86       |\n",
            "|    explained_variance   | 0.733       |\n",
            "|    learning_rate        | 0.0003      |\n",
            "|    loss                 | 6.99        |\n",
            "|    n_updates            | 48          |\n",
            "|    policy_gradient_loss | -0.000367   |\n",
            "|    std                  | 1.04        |\n",
            "|    value_loss           | 16.9        |\n",
            "-----------------------------------------\n",
            "-----------------------------------------\n",
            "| rollout/                |             |\n",
            "|    ep_len_mean          | 1.14e+03    |\n",
            "|    ep_rew_mean          | -105        |\n",
            "| time/                   |             |\n",
            "|    fps                  | 1459        |\n",
            "|    iterations           | 10          |\n",
            "|    time_elapsed         | 224         |\n",
            "|    total_timesteps      | 327680      |\n",
            "| train/                  |             |\n",
            "|    approx_kl            | 0.008369207 |\n",
            "|    clip_fraction        | 0.0987      |\n",
            "|    clip_range           | 0.2         |\n",
            "|    entropy_loss         | -5.84       |\n",
            "|    explained_variance   | 0.768       |\n",
            "|    learning_rate        | 0.0003      |\n",
            "|    loss                 | 0.201       |\n",
            "|    n_updates            | 54          |\n",
            "|    policy_gradient_loss | -0.00164    |\n",
            "|    std                  | 1.05        |\n",
            "|    value_loss           | 12.4        |\n",
            "-----------------------------------------\n",
            "------------------------------------------\n",
            "| rollout/                |              |\n",
            "|    ep_len_mean          | 1.23e+03     |\n",
            "|    ep_rew_mean          | -102         |\n",
            "| time/                   |              |\n",
            "|    fps                  | 1455         |\n",
            "|    iterations           | 11           |\n",
            "|    time_elapsed         | 247          |\n",
            "|    total_timesteps      | 360448       |\n",
            "| train/                  |              |\n",
            "|    approx_kl            | 0.0069729486 |\n",
            "|    clip_fraction        | 0.0704       |\n",
            "|    clip_range           | 0.2          |\n",
            "|    entropy_loss         | -5.85        |\n",
            "|    explained_variance   | 0.293        |\n",
            "|    learning_rate        | 0.0003       |\n",
            "|    loss                 | 3.52         |\n",
            "|    n_updates            | 60           |\n",
            "|    policy_gradient_loss | -0.00181     |\n",
            "|    std                  | 1.04         |\n",
            "|    value_loss           | 10.9         |\n",
            "------------------------------------------\n",
            "-----------------------------------------\n",
            "| rollout/                |             |\n",
            "|    ep_len_mean          | 1.29e+03    |\n",
            "|    ep_rew_mean          | -98.2       |\n",
            "| time/                   |             |\n",
            "|    fps                  | 1452        |\n",
            "|    iterations           | 12          |\n",
            "|    time_elapsed         | 270         |\n",
            "|    total_timesteps      | 393216      |\n",
            "| train/                  |             |\n",
            "|    approx_kl            | 0.004581266 |\n",
            "|    clip_fraction        | 0.0713      |\n",
            "|    clip_range           | 0.2         |\n",
            "|    entropy_loss         | -5.83       |\n",
            "|    explained_variance   | 0.565       |\n",
            "|    learning_rate        | 0.0003      |\n",
            "|    loss                 | 3.34        |\n",
            "|    n_updates            | 66          |\n",
            "|    policy_gradient_loss | -0.000649   |\n",
            "|    std                  | 1.03        |\n",
            "|    value_loss           | 14.5        |\n",
            "-----------------------------------------\n",
            "------------------------------------------\n",
            "| rollout/                |              |\n",
            "|    ep_len_mean          | 1.36e+03     |\n",
            "|    ep_rew_mean          | -94.5        |\n",
            "| time/                   |              |\n",
            "|    fps                  | 1449         |\n",
            "|    iterations           | 13           |\n",
            "|    time_elapsed         | 293          |\n",
            "|    total_timesteps      | 425984       |\n",
            "| train/                  |              |\n",
            "|    approx_kl            | 0.0064460533 |\n",
            "|    clip_fraction        | 0.0769       |\n",
            "|    clip_range           | 0.2          |\n",
            "|    entropy_loss         | -5.8         |\n",
            "|    explained_variance   | 0.52         |\n",
            "|    learning_rate        | 0.0003       |\n",
            "|    loss                 | 0.138        |\n",
            "|    n_updates            | 72           |\n",
            "|    policy_gradient_loss | -0.000717    |\n",
            "|    std                  | 1.04         |\n",
            "|    value_loss           | 7.35         |\n",
            "------------------------------------------\n",
            "------------------------------------------\n",
            "| rollout/                |              |\n",
            "|    ep_len_mean          | 1.37e+03     |\n",
            "|    ep_rew_mean          | -91.7        |\n",
            "| time/                   |              |\n",
            "|    fps                  | 1444         |\n",
            "|    iterations           | 14           |\n",
            "|    time_elapsed         | 317          |\n",
            "|    total_timesteps      | 458752       |\n",
            "| train/                  |              |\n",
            "|    approx_kl            | 0.0057988064 |\n",
            "|    clip_fraction        | 0.0569       |\n",
            "|    clip_range           | 0.2          |\n",
            "|    entropy_loss         | -5.83        |\n",
            "|    explained_variance   | 0.662        |\n",
            "|    learning_rate        | 0.0003       |\n",
            "|    loss                 | 0.992        |\n",
            "|    n_updates            | 78           |\n",
            "|    policy_gradient_loss | -0.000576    |\n",
            "|    std                  | 1.04         |\n",
            "|    value_loss           | 4.89         |\n",
            "------------------------------------------\n",
            "------------------------------------------\n",
            "| rollout/                |              |\n",
            "|    ep_len_mean          | 1.36e+03     |\n",
            "|    ep_rew_mean          | -90.3        |\n",
            "| time/                   |              |\n",
            "|    fps                  | 1442         |\n",
            "|    iterations           | 15           |\n",
            "|    time_elapsed         | 340          |\n",
            "|    total_timesteps      | 491520       |\n",
            "| train/                  |              |\n",
            "|    approx_kl            | 0.0053781997 |\n",
            "|    clip_fraction        | 0.0658       |\n",
            "|    clip_range           | 0.2          |\n",
            "|    entropy_loss         | -5.83        |\n",
            "|    explained_variance   | 0.723        |\n",
            "|    learning_rate        | 0.0003       |\n",
            "|    loss                 | 0.224        |\n",
            "|    n_updates            | 84           |\n",
            "|    policy_gradient_loss | -0.0021      |\n",
            "|    std                  | 1.04         |\n",
            "|    value_loss           | 2.97         |\n",
            "------------------------------------------\n",
            "------------------------------------------\n",
            "| rollout/                |              |\n",
            "|    ep_len_mean          | 1.39e+03     |\n",
            "|    ep_rew_mean          | -88.3        |\n",
            "| time/                   |              |\n",
            "|    fps                  | 1442         |\n",
            "|    iterations           | 16           |\n",
            "|    time_elapsed         | 363          |\n",
            "|    total_timesteps      | 524288       |\n",
            "| train/                  |              |\n",
            "|    approx_kl            | 0.0057903873 |\n",
            "|    clip_fraction        | 0.0518       |\n",
            "|    clip_range           | 0.2          |\n",
            "|    entropy_loss         | -5.82        |\n",
            "|    explained_variance   | 0.537        |\n",
            "|    learning_rate        | 0.0003       |\n",
            "|    loss                 | 9.94         |\n",
            "|    n_updates            | 90           |\n",
            "|    policy_gradient_loss | -0.00119     |\n",
            "|    std                  | 1.04         |\n",
            "|    value_loss           | 8.85         |\n",
            "------------------------------------------\n",
            "------------------------------------------\n",
            "| rollout/                |              |\n",
            "|    ep_len_mean          | 1.4e+03      |\n",
            "|    ep_rew_mean          | -85.4        |\n",
            "| time/                   |              |\n",
            "|    fps                  | 1441         |\n",
            "|    iterations           | 17           |\n",
            "|    time_elapsed         | 386          |\n",
            "|    total_timesteps      | 557056       |\n",
            "| train/                  |              |\n",
            "|    approx_kl            | 0.0059160963 |\n",
            "|    clip_fraction        | 0.0705       |\n",
            "|    clip_range           | 0.2          |\n",
            "|    entropy_loss         | -5.81        |\n",
            "|    explained_variance   | 0.782        |\n",
            "|    learning_rate        | 0.0003       |\n",
            "|    loss                 | 1.52         |\n",
            "|    n_updates            | 96           |\n",
            "|    policy_gradient_loss | -0.000974    |\n",
            "|    std                  | 1.03         |\n",
            "|    value_loss           | 2.53         |\n",
            "------------------------------------------\n",
            "------------------------------------------\n",
            "| rollout/                |              |\n",
            "|    ep_len_mean          | 1.4e+03      |\n",
            "|    ep_rew_mean          | -82.8        |\n",
            "| time/                   |              |\n",
            "|    fps                  | 1443         |\n",
            "|    iterations           | 18           |\n",
            "|    time_elapsed         | 408          |\n",
            "|    total_timesteps      | 589824       |\n",
            "| train/                  |              |\n",
            "|    approx_kl            | 0.0070333635 |\n",
            "|    clip_fraction        | 0.0683       |\n",
            "|    clip_range           | 0.2          |\n",
            "|    entropy_loss         | -5.77        |\n",
            "|    explained_variance   | 0.866        |\n",
            "|    learning_rate        | 0.0003       |\n",
            "|    loss                 | 0.694        |\n",
            "|    n_updates            | 102          |\n",
            "|    policy_gradient_loss | -0.00253     |\n",
            "|    std                  | 1.02         |\n",
            "|    value_loss           | 1.77         |\n",
            "------------------------------------------\n"
          ]
        }
      ]
    },
    {
      "cell_type": "code",
      "source": [
        "import os\n",
        "video_dir = \".\"\n",
        "video_name = \"replay.mp4\"\n",
        "env_id = \"BipedalWalker-v3\"\n",
        "\n",
        "generate_replay(\n",
        "    model = model,\n",
        "    eval_env=DummyVecEnv([lambda: Monitor(gym.make(env_id, render_mode=\"rgb_array\"))]),\n",
        "    video_length=1000,\n",
        "    is_deterministic=True,\n",
        "    local_path=os.path.join(video_dir, video_name)\n",
        ")"
      ],
      "metadata": {
        "id": "usp5BKC4dlh8",
        "colab": {
          "base_uri": "https://localhost:8080/"
        },
        "outputId": "06c99de1-08ed-4b81-b360-1e80b8a3f98e"
      },
      "execution_count": null,
      "outputs": [
        {
          "output_type": "stream",
          "name": "stdout",
          "text": [
            "Saving video to /tmp/tmp5b7fzv3p/-step-0-to-step-1000.mp4\n",
            "Moviepy - Building video /tmp/tmp5b7fzv3p/-step-0-to-step-1000.mp4.\n",
            "Moviepy - Writing video /tmp/tmp5b7fzv3p/-step-0-to-step-1000.mp4\n",
            "\n"
          ]
        },
        {
          "output_type": "stream",
          "name": "stderr",
          "text": []
        },
        {
          "output_type": "stream",
          "name": "stdout",
          "text": [
            "Moviepy - Done !\n",
            "Moviepy - video ready /tmp/tmp5b7fzv3p/-step-0-to-step-1000.mp4\n",
            "Video saved to: ./replay.mp4\n"
          ]
        }
      ]
    },
    {
      "cell_type": "markdown",
      "source": [
        "# **5. Visualize Final Video**"
      ],
      "metadata": {
        "id": "zw4c5jJ0XBWU"
      }
    },
    {
      "cell_type": "code",
      "source": [
        "from IPython.display import HTML\n",
        "from base64 import b64encode\n",
        "mp4 = open('replay.mp4','rb').read()\n",
        "data_url = \"data:video/mp4;base64,\" + b64encode(mp4).decode()\n",
        "HTML(\"\"\"\n",
        "<video width=600 controls>\n",
        "      <source src=\"%s\" type=\"video/mp4\">\n",
        "</video>\n",
        "\"\"\" % data_url)"
      ],
      "metadata": {
        "id": "NVFpJPohU2_Z",
        "colab": {
          "base_uri": "https://localhost:8080/",
          "height": 422
        },
        "outputId": "0b4a10a8-6f61-4f92-e24d-2f5e09db5896"
      },
      "execution_count": null,
      "outputs": [
        {
          "output_type": "execute_result",
          "data": {
            "text/plain": [
              "<IPython.core.display.HTML object>"
            ],
            "text/html": [
              "\n",
              "<video width=600 controls>\n",
              "      <source src=\"data:video/mp4;base64,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\" type=\"video/mp4\">\n",
              "</video>\n"
            ]
          },
          "metadata": {},
          "execution_count": 12
        }
      ]
    },
    {
      "cell_type": "markdown",
      "source": [
        "# **6. Evaluate the Model**"
      ],
      "metadata": {
        "id": "JvCZEk2DXnPa"
      }
    },
    {
      "cell_type": "code",
      "source": [
        "from stable_baselines3.common.evaluation import evaluate_policy"
      ],
      "metadata": {
        "id": "JO0spFR9VEX2"
      },
      "execution_count": null,
      "outputs": []
    },
    {
      "cell_type": "code",
      "source": [
        "eval_env = Monitor(gym.make(\"BipedalWalker-v3\"))\n",
        "mean_reward, std_reward = evaluate_policy(model, eval_env, n_eval_episodes=10, deterministic=True)\n",
        "print(f\"mean_reward={mean_reward:.2f} +/- {std_reward}\")"
      ],
      "metadata": {
        "id": "AfCcrkOXXX3Y",
        "colab": {
          "base_uri": "https://localhost:8080/"
        },
        "outputId": "e873a1dc-4d46-4bae-bf83-81c6d6a27ef6"
      },
      "execution_count": null,
      "outputs": [
        {
          "output_type": "stream",
          "name": "stdout",
          "text": [
            "mean_reward=-47.28 +/- 4.561934258367498\n"
          ]
        }
      ]
    }
  ]
}